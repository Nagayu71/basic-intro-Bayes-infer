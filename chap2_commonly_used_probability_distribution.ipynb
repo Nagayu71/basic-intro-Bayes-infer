{
 "cells": [
  {
   "cell_type": "code",
   "execution_count": null,
   "metadata": {},
   "outputs": [],
   "source": [
    "import numpy as np\n",
    "import matplotlib.pyplot as plt\n",
    "import japanize_matplotlib\n",
    "import pandas as pd\n",
    "from IPython.display import display # データフレーム表示用関数\n",
    "import seaborn as sns\n",
    "import pymc as pm\n",
    "import arviz as az\n",
    "# 表示オプション調整\n",
    "# NumPy表示形式の設定\n",
    "np.set_printoptions(precision=3, floatmode='fixed')\n",
    "# グラフのデフォルトフォント指定\n",
    "plt.rcParams[\"font.size\"] = 14\n",
    "# サイズ設定\n",
    "plt.rcParams['figure.figsize'] = (6, 6)\n",
    "# 方眼表示ON\n",
    "plt.rcParams['axes.grid'] = True\n",
    "# データフレームでの表示精度\n",
    "pd.options.display.float_format = '{:.3f}'.format\n",
    "# データフレームですべての項目を表示\n",
    "pd.set_option(\"display.max_columns\",None)"
   ]
  },
  {
   "cell_type": "markdown",
   "metadata": {},
   "source": [
    "## ベルヌーイ分布（`pm.Bernoulli`クラス）"
   ]
  },
  {
   "cell_type": "code",
   "execution_count": null,
   "metadata": {},
   "outputs": [],
   "source": [
    "# Code 2.1 ベルヌーイ分布の確率モデル定義（p=0.5）\n",
    "\n",
    "# パラメータ設定\n",
    "p = 0.5\n",
    "\n",
    "model1 = pm.Model()\n",
    "with model1:\n",
    "    # pm.Bernoulli: ベルヌーイ分布\n",
    "    # p: くじに当たる確率\n",
    "    x = pm.Bernoulli(\"x\", p=p)"
   ]
  },
  {
   "cell_type": "code",
   "execution_count": null,
   "metadata": {},
   "outputs": [],
   "source": [
    "# Code 2.2 事前分布のサンプリング\n",
    "\n",
    "with model1:\n",
    "    prior_samples1 = pm.sample_prior_predictive(random_seed=42)"
   ]
  },
  {
   "cell_type": "code",
   "execution_count": null,
   "metadata": {},
   "outputs": [],
   "source": [
    "# Code 2.3 サンプル値を NumPy 形式で抽出\n",
    "\n",
    "x_samples1 = prior_samples1[\"prior\"][\"x\"].values\n",
    "print(x_samples1)"
   ]
  },
  {
   "cell_type": "code",
   "execution_count": null,
   "metadata": {},
   "outputs": [],
   "source": [
    "# Code 2.4 サンプリング結果の統計分析\n",
    "\n",
    "summary1 = az.summary(prior_samples1, kind=\"stats\")\n",
    "display(summary1)"
   ]
  },
  {
   "cell_type": "code",
   "execution_count": null,
   "metadata": {},
   "outputs": [],
   "source": [
    "# Code 2.5 サンプリング結果の可視化\n",
    "\n",
    "ax = az.plot_dist(x_samples1)\n",
    "ax.set_title(f\"ベルヌーイ分布 p={p}\");"
   ]
  },
  {
   "cell_type": "markdown",
   "metadata": {},
   "source": [
    "## 二項分布（`pm.Binomial`クラス）"
   ]
  },
  {
   "cell_type": "code",
   "execution_count": null,
   "metadata": {},
   "outputs": [],
   "source": [
    "# Code 2.6 二項分布の確率モデル定義（p=0.5, n=5）\n",
    "\n",
    "# パラメータ設定\n",
    "p = 0.5\n",
    "n = 5\n",
    "\n",
    "model2 = pm.Model()\n",
    "with model2:\n",
    "    # pm.Binomial: 二項分布\n",
    "    # p: くじに当たる確率\n",
    "    # n: 試行回数\n",
    "    x = pm.Binomial(\"x\", p=p, n=n)"
   ]
  },
  {
   "cell_type": "code",
   "execution_count": null,
   "metadata": {},
   "outputs": [],
   "source": [
    "# Code 2.7 事前分布のサンプリングと結果分析\n",
    "\n",
    "with model2:\n",
    "    # sampling\n",
    "    prior_samples2 = pm.sample_prior_predictive(random_seed=42)\n",
    "\n",
    "# サンプル値抽出\n",
    "x_samples2 = prior_samples2[\"prior\"][\"x\"].values\n",
    "print(x_samples2)\n",
    "\n",
    "# サンプリング結果の統計分析\n",
    "summary2 = az.summary(prior_samples2, kind=\"stats\")\n",
    "display(summary2)\n",
    "\n",
    "# サンプリング結果の可視化\n",
    "ax = az.plot_dist(x_samples2)\n",
    "ax.set_title(f\"二項分布 p={p}, n={n}\");"
   ]
  },
  {
   "cell_type": "code",
   "execution_count": null,
   "metadata": {},
   "outputs": [],
   "source": [
    "# Code 2.8 二項分布の確率モデル定義（p=0.5, n=50）\n",
    "\n",
    "model3 = pm.Model()\n",
    "\n",
    "with model3:\n",
    "    x = pm.Binomial(\"x\", p=0.5, n=50)\n",
    "\n",
    "    prior_samples3 = pm.sample_prior_predictive(random_seed=42)\n",
    "\n",
    "x_samples3 = prior_samples3[\"prior\"][\"x\"].values\n",
    "\n",
    "summary3 = az.summary(prior_samples3, kind=\"stats\")\n",
    "display(summary3)\n",
    "\n",
    "ax = az.plot_dist(x_samples2)\n",
    "ax.set_title(f\"二項分布 p=0.5, n=50\");"
   ]
  },
  {
   "cell_type": "markdown",
   "metadata": {},
   "source": [
    "## 正規分布（`pm.Normal`クラス）"
   ]
  },
  {
   "cell_type": "code",
   "execution_count": null,
   "metadata": {},
   "outputs": [],
   "source": [
    "# Code 2.9 アイリス・データセットから、setosa のがく片長の分布を調べる\n",
    "\n",
    "# データセットの読み込み\n",
    "df = sns.load_dataset(\"iris\")\n",
    "\n",
    "# 種類が setosa の行のみ抽出\n",
    "df1 = df.query('species == \"setosa\"')\n",
    "\n",
    "bins = np.arange(4.0, 6.2, 0.2)\n",
    "sns.histplot(data=df1, x=\"sepal_length\", bins=bins, kde=True)\n",
    "plt.xticks(bins);\n"
   ]
  },
  {
   "cell_type": "code",
   "execution_count": null,
   "metadata": {},
   "outputs": [],
   "source": [
    "# Code 2.10 正規分布関数の定義とグラフ描画\n",
    "\n",
    "def norm(x, mu, sigma):\n",
    "    return np.exp(-((x - mu)/sigma)**2/2) / (np.sqrt(2 * np.pi) * sigma)\n",
    "\n",
    "# パラメータ定義\n",
    "mu1, sigma1 = 3.0, 2.0\n",
    "mu2, sigma2 = 1.0, 3.0\n",
    "\n",
    "# グラフ描画用x座標の定義\n",
    "# 2つの正規分布関数で±3sigmaまで入るように計算\n",
    "x = np.arange(-8.0, 10.0, 0.01)\n",
    "\n",
    "# x軸目盛の設定\n",
    "xticks = np.arange(-8.0, 11.0, 1.0)\n",
    "\n",
    "# グラフ描画\n",
    "plt.plot(x, norm(x, mu1, sigma1), label=f\"mu={mu1} sigma={sigma1}\")\n",
    "plt.plot(x, norm(x, mu2, sigma2), label=f\"mu={mu2} sigma={sigma2}\")\n",
    "plt.xticks(xticks, fontsize=12)\n",
    "plt.legend(fontsize=12)\n",
    "plt.title(\"正規分布関数のグラフ\");"
   ]
  },
  {
   "cell_type": "code",
   "execution_count": null,
   "metadata": {},
   "outputs": [],
   "source": [
    "# Code 2.11 正規分布の確率モデル定義（mu=0, sigma=1.0）\n",
    "\n",
    "# パラメータ設定\n",
    "mu = 0\n",
    "sigma = 1.0\n",
    "\n",
    "model4 = pm.Model()\n",
    "with model4:\n",
    "    # pm.Normal: 正規分布\n",
    "    # mu:平均\n",
    "    # sigma:標準偏差\n",
    "    x = pm.Normal(\"x\", mu=mu, sigma=sigma)"
   ]
  },
  {
   "cell_type": "code",
   "execution_count": null,
   "metadata": {},
   "outputs": [],
   "source": [
    "# Code 2.12 サンプリングとサンプリング結果の分析\n",
    "\n",
    "with model4:\n",
    "    prior_samples4 = pm.sample_prior_predictive(random_seed=42)\n",
    "\n",
    "# サンプル値の抽出\n",
    "x_samples4 = prior_samples4[\"prior\"][\"x\"].values\n",
    "\n",
    "# サンプリング結果の可視化\n",
    "ax = az.plot_dist(x_samples4)\n",
    "ax.set_title(f\"正規分布 mu={mu}, sigma={sigma}\");"
   ]
  },
  {
   "cell_type": "code",
   "execution_count": null,
   "metadata": {},
   "outputs": [],
   "source": [
    "# Code 2.13 サンプリング結果のヒストグラム表示\n",
    "\n",
    "bins = np.arange(-3,3.5,0.5)\n",
    "ax = az.plot_dist(x_samples4, kind=\"hist\",hist_kwargs={\"bins\":bins})\n",
    "plt.xticks(np.arange(-3,4,1))\n",
    "ax.set_title(f\"正規分布 mu={mu}, sigma={sigma}\");"
   ]
  },
  {
   "cell_type": "code",
   "execution_count": null,
   "metadata": {},
   "outputs": [],
   "source": [
    "# Code 2.14 サンプリング結果の統計分析\n",
    "\n",
    "summary4 = az.summary(prior_samples4, kind=\"stats\")\n",
    "display(summary4)"
   ]
  },
  {
   "cell_type": "code",
   "execution_count": null,
   "metadata": {},
   "outputs": [],
   "source": [
    "# Code 2.15 正規分布の確率モデル定義（mu=3.0, sigma=2.0）とサンプリング結果分析\n",
    "\n",
    "# パラメータ設定\n",
    "mu = 3.0\n",
    "sigma = 2.0\n",
    "\n",
    "model5 = pm.Model()\n",
    "with model5:\n",
    "    # pm.Normal: 正規分布\n",
    "    # mu:平均\n",
    "    # sigma:標準偏差\n",
    "    x = pm.Normal('x', mu=mu, sigma=sigma)\n",
    "\n",
    "    # サンプリング\n",
    "    prior_samples5 = pm.sample_prior_predictive(random_seed=42)\n",
    "\n",
    "# サンプル値抽出\n",
    "x_samples5 = prior_samples5[\"prior\"][\"x\"].values\n",
    "\n",
    "# サンプリング結果の統計分析\n",
    "summary5 = az.summary(prior_samples5, kind='stats')\n",
    "display(summary5)\n",
    "\n",
    "# サンプリング結果の可視化\n",
    "ax = az.plot_dist(x_samples5)\n",
    "ax.set_title(f\"正規分布 mu={mu}, sigma={sigma}\");"
   ]
  },
  {
   "cell_type": "code",
   "execution_count": null,
   "metadata": {},
   "outputs": [],
   "source": []
  }
 ],
 "metadata": {
  "kernelspec": {
   "display_name": ".venv",
   "language": "python",
   "name": "python3"
  },
  "language_info": {
   "codemirror_mode": {
    "name": "ipython",
    "version": 3
   },
   "file_extension": ".py",
   "mimetype": "text/x-python",
   "name": "python",
   "nbconvert_exporter": "python",
   "pygments_lexer": "ipython3",
   "version": "3.11.6"
  }
 },
 "nbformat": 4,
 "nbformat_minor": 2
}
